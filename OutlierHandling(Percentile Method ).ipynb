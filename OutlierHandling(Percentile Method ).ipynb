{
 "cells": [
  {
   "cell_type": "code",
   "execution_count": 7,
   "id": "10a623a5-729b-4120-abb9-0ac9095934ae",
   "metadata": {},
   "outputs": [],
   "source": [
    "import numpy as np\n",
    "import pandas as pd\n",
    "import matplotlib.pyplot as plt\n",
    "import seaborn as sns"
   ]
  },
  {
   "cell_type": "code",
   "execution_count": 25,
   "id": "cc235898-b553-4039-9644-d707e0ceb371",
   "metadata": {},
   "outputs": [],
   "source": [
    "data = np.concatenate((np.random.normal(loc = 0,scale = 1,size = 100), np.array([10,11,-8,-9])))\n",
    "df = pd.DataFrame(data,columns=['value'])"
   ]
  },
  {
   "cell_type": "code",
   "execution_count": 27,
   "id": "4143b4c8-2540-4452-9de2-2b9fc910eac4",
   "metadata": {},
   "outputs": [
    {
     "data": {
      "text/html": [
       "<div>\n",
       "<style scoped>\n",
       "    .dataframe tbody tr th:only-of-type {\n",
       "        vertical-align: middle;\n",
       "    }\n",
       "\n",
       "    .dataframe tbody tr th {\n",
       "        vertical-align: top;\n",
       "    }\n",
       "\n",
       "    .dataframe thead th {\n",
       "        text-align: right;\n",
       "    }\n",
       "</style>\n",
       "<table border=\"1\" class=\"dataframe\">\n",
       "  <thead>\n",
       "    <tr style=\"text-align: right;\">\n",
       "      <th></th>\n",
       "      <th>value</th>\n",
       "    </tr>\n",
       "  </thead>\n",
       "  <tbody>\n",
       "    <tr>\n",
       "      <th>0</th>\n",
       "      <td>-0.795808</td>\n",
       "    </tr>\n",
       "    <tr>\n",
       "      <th>1</th>\n",
       "      <td>0.244377</td>\n",
       "    </tr>\n",
       "    <tr>\n",
       "      <th>2</th>\n",
       "      <td>-0.555944</td>\n",
       "    </tr>\n",
       "    <tr>\n",
       "      <th>3</th>\n",
       "      <td>0.553923</td>\n",
       "    </tr>\n",
       "    <tr>\n",
       "      <th>4</th>\n",
       "      <td>-1.139621</td>\n",
       "    </tr>\n",
       "    <tr>\n",
       "      <th>...</th>\n",
       "      <td>...</td>\n",
       "    </tr>\n",
       "    <tr>\n",
       "      <th>99</th>\n",
       "      <td>0.318054</td>\n",
       "    </tr>\n",
       "    <tr>\n",
       "      <th>100</th>\n",
       "      <td>10.000000</td>\n",
       "    </tr>\n",
       "    <tr>\n",
       "      <th>101</th>\n",
       "      <td>11.000000</td>\n",
       "    </tr>\n",
       "    <tr>\n",
       "      <th>102</th>\n",
       "      <td>-8.000000</td>\n",
       "    </tr>\n",
       "    <tr>\n",
       "      <th>103</th>\n",
       "      <td>-9.000000</td>\n",
       "    </tr>\n",
       "  </tbody>\n",
       "</table>\n",
       "<p>104 rows × 1 columns</p>\n",
       "</div>"
      ],
      "text/plain": [
       "         value\n",
       "0    -0.795808\n",
       "1     0.244377\n",
       "2    -0.555944\n",
       "3     0.553923\n",
       "4    -1.139621\n",
       "..         ...\n",
       "99    0.318054\n",
       "100  10.000000\n",
       "101  11.000000\n",
       "102  -8.000000\n",
       "103  -9.000000\n",
       "\n",
       "[104 rows x 1 columns]"
      ]
     },
     "execution_count": 27,
     "metadata": {},
     "output_type": "execute_result"
    }
   ],
   "source": [
    "df"
   ]
  },
  {
   "cell_type": "raw",
   "id": "e067b1d1-e242-4aaf-b889-24fc2595ad0a",
   "metadata": {},
   "source": [
    "### Percentile Method"
   ]
  },
  {
   "cell_type": "raw",
   "id": "62553003-096d-4795-b505-1969fb6cf643",
   "metadata": {},
   "source": [
    "#Lets take the first 5 percentage"
   ]
  },
  {
   "cell_type": "code",
   "execution_count": 28,
   "id": "8c42f936-75a9-40b6-b1f8-b64977a9ad4b",
   "metadata": {},
   "outputs": [],
   "source": [
    "fifth_percentile = np.percentile(df['value'],5)"
   ]
  },
  {
   "cell_type": "code",
   "execution_count": 29,
   "id": "ffde1373-0e8d-4ec6-9dc5-c43cb0d0cf54",
   "metadata": {},
   "outputs": [
    {
     "data": {
      "text/plain": [
       "-1.4944388198257565"
      ]
     },
     "execution_count": 29,
     "metadata": {},
     "output_type": "execute_result"
    }
   ],
   "source": [
    "fifth_percentile"
   ]
  },
  {
   "cell_type": "code",
   "execution_count": 30,
   "id": "fe5762d1-3311-47a3-bab2-1473da779ca4",
   "metadata": {},
   "outputs": [],
   "source": [
    "# Next Take Ninty Fifth Percentiles"
   ]
  },
  {
   "cell_type": "code",
   "execution_count": 31,
   "id": "fc03e943-e0c8-46db-85e5-2c4e26bd65d3",
   "metadata": {},
   "outputs": [],
   "source": [
    "Nintyfifth_percentile = np.percentile(df['value'],95)"
   ]
  },
  {
   "cell_type": "code",
   "execution_count": 32,
   "id": "6246f8ef-5863-4354-aa22-aa928f4f9f2a",
   "metadata": {},
   "outputs": [
    {
     "data": {
      "text/plain": [
       "2.373774377963282"
      ]
     },
     "execution_count": 32,
     "metadata": {},
     "output_type": "execute_result"
    }
   ],
   "source": [
    "Nintyfifth_percentile"
   ]
  },
  {
   "cell_type": "code",
   "execution_count": 33,
   "id": "b76ba215-4616-4ecc-8869-e8fccf673132",
   "metadata": {},
   "outputs": [
    {
     "data": {
      "text/plain": [
       "<Axes: >"
      ]
     },
     "execution_count": 33,
     "metadata": {},
     "output_type": "execute_result"
    },
    {
     "data": {
      "image/png": "[encoded data removed]",
      "text/plain": [
       "<Figure size 640x480 with 1 Axes>"
      ]
     },
     "metadata": {},
     "output_type": "display_data"
    }
   ],
   "source": [
    "sns.boxplot(df)"
   ]
  },
  {
   "cell_type": "code",
   "execution_count": 34,
   "id": "ce6403f1-a674-4f90-a92d-25ef91dfcf38",
   "metadata": {},
   "outputs": [
    {
     "data": {
      "text/html": [
       "<div>\n",
       "<style scoped>\n",
       "    .dataframe tbody tr th:only-of-type {\n",
       "        vertical-align: middle;\n",
       "    }\n",
       "\n",
       "    .dataframe tbody tr th {\n",
       "        vertical-align: top;\n",
       "    }\n",
       "\n",
       "    .dataframe thead th {\n",
       "        text-align: right;\n",
       "    }\n",
       "</style>\n",
       "<table border=\"1\" class=\"dataframe\">\n",
       "  <thead>\n",
       "    <tr style=\"text-align: right;\">\n",
       "      <th></th>\n",
       "      <th>value</th>\n",
       "    </tr>\n",
       "  </thead>\n",
       "  <tbody>\n",
       "    <tr>\n",
       "      <th>0</th>\n",
       "      <td>-0.795808</td>\n",
       "    </tr>\n",
       "    <tr>\n",
       "      <th>1</th>\n",
       "      <td>0.244377</td>\n",
       "    </tr>\n",
       "    <tr>\n",
       "      <th>2</th>\n",
       "      <td>-0.555944</td>\n",
       "    </tr>\n",
       "    <tr>\n",
       "      <th>3</th>\n",
       "      <td>0.553923</td>\n",
       "    </tr>\n",
       "    <tr>\n",
       "      <th>4</th>\n",
       "      <td>-1.139621</td>\n",
       "    </tr>\n",
       "    <tr>\n",
       "      <th>...</th>\n",
       "      <td>...</td>\n",
       "    </tr>\n",
       "    <tr>\n",
       "      <th>99</th>\n",
       "      <td>0.318054</td>\n",
       "    </tr>\n",
       "    <tr>\n",
       "      <th>100</th>\n",
       "      <td>10.000000</td>\n",
       "    </tr>\n",
       "    <tr>\n",
       "      <th>101</th>\n",
       "      <td>11.000000</td>\n",
       "    </tr>\n",
       "    <tr>\n",
       "      <th>102</th>\n",
       "      <td>-8.000000</td>\n",
       "    </tr>\n",
       "    <tr>\n",
       "      <th>103</th>\n",
       "      <td>-9.000000</td>\n",
       "    </tr>\n",
       "  </tbody>\n",
       "</table>\n",
       "<p>104 rows × 1 columns</p>\n",
       "</div>"
      ],
      "text/plain": [
       "         value\n",
       "0    -0.795808\n",
       "1     0.244377\n",
       "2    -0.555944\n",
       "3     0.553923\n",
       "4    -1.139621\n",
       "..         ...\n",
       "99    0.318054\n",
       "100  10.000000\n",
       "101  11.000000\n",
       "102  -8.000000\n",
       "103  -9.000000\n",
       "\n",
       "[104 rows x 1 columns]"
      ]
     },
     "execution_count": 34,
     "metadata": {},
     "output_type": "execute_result"
    }
   ],
   "source": [
    "df"
   ]
  },
  {
   "cell_type": "code",
   "execution_count": 57,
   "id": "bb83da3e-b67e-47e1-9bf9-429b2eadf36b",
   "metadata": {},
   "outputs": [],
   "source": [
    "# Where function in numpy is the nested if else statement numpy.where and \n",
    "# There is another one which is numpy.apply which is used to apply function to each rows is the python\n",
    "\n",
    "df['removed_outliers'] =  np.where(\n",
    "    (df['value'] >= fifth_percentile) & (df['value'] <= Nintyfifth_percentile) , df['value'],\n",
    "    np.where(\n",
    "        df['value'] <= fifth_percentile , fifth_percentile,\n",
    "        Nintyfifth_percentile\n",
    "    )\n",
    ")"
   ]
  },
  {
   "cell_type": "code",
   "execution_count": 58,
   "id": "66f3a6df-9fa4-42f9-a954-d56035579c0c",
   "metadata": {},
   "outputs": [
    {
     "data": {
      "text/html": [
       "<div>\n",
       "<style scoped>\n",
       "    .dataframe tbody tr th:only-of-type {\n",
       "        vertical-align: middle;\n",
       "    }\n",
       "\n",
       "    .dataframe tbody tr th {\n",
       "        vertical-align: top;\n",
       "    }\n",
       "\n",
       "    .dataframe thead th {\n",
       "        text-align: right;\n",
       "    }\n",
       "</style>\n",
       "<table border=\"1\" class=\"dataframe\">\n",
       "  <thead>\n",
       "    <tr style=\"text-align: right;\">\n",
       "      <th></th>\n",
       "      <th>value</th>\n",
       "      <th>Remove_outliers</th>\n",
       "      <th>removed_outliers</th>\n",
       "    </tr>\n",
       "  </thead>\n",
       "  <tbody>\n",
       "    <tr>\n",
       "      <th>0</th>\n",
       "      <td>-0.795808</td>\n",
       "      <td>-0.795808</td>\n",
       "      <td>-0.795808</td>\n",
       "    </tr>\n",
       "    <tr>\n",
       "      <th>1</th>\n",
       "      <td>0.244377</td>\n",
       "      <td>0.244377</td>\n",
       "      <td>0.244377</td>\n",
       "    </tr>\n",
       "    <tr>\n",
       "      <th>2</th>\n",
       "      <td>-0.555944</td>\n",
       "      <td>-0.555944</td>\n",
       "      <td>-0.555944</td>\n",
       "    </tr>\n",
       "    <tr>\n",
       "      <th>3</th>\n",
       "      <td>0.553923</td>\n",
       "      <td>0.553923</td>\n",
       "      <td>0.553923</td>\n",
       "    </tr>\n",
       "    <tr>\n",
       "      <th>4</th>\n",
       "      <td>-1.139621</td>\n",
       "      <td>-1.139621</td>\n",
       "      <td>-1.139621</td>\n",
       "    </tr>\n",
       "    <tr>\n",
       "      <th>...</th>\n",
       "      <td>...</td>\n",
       "      <td>...</td>\n",
       "      <td>...</td>\n",
       "    </tr>\n",
       "    <tr>\n",
       "      <th>99</th>\n",
       "      <td>0.318054</td>\n",
       "      <td>0.318054</td>\n",
       "      <td>0.318054</td>\n",
       "    </tr>\n",
       "    <tr>\n",
       "      <th>100</th>\n",
       "      <td>10.000000</td>\n",
       "      <td>2.373774</td>\n",
       "      <td>2.373774</td>\n",
       "    </tr>\n",
       "    <tr>\n",
       "      <th>101</th>\n",
       "      <td>11.000000</td>\n",
       "      <td>2.373774</td>\n",
       "      <td>2.373774</td>\n",
       "    </tr>\n",
       "    <tr>\n",
       "      <th>102</th>\n",
       "      <td>-8.000000</td>\n",
       "      <td>2.373774</td>\n",
       "      <td>-1.494439</td>\n",
       "    </tr>\n",
       "    <tr>\n",
       "      <th>103</th>\n",
       "      <td>-9.000000</td>\n",
       "      <td>2.373774</td>\n",
       "      <td>-1.494439</td>\n",
       "    </tr>\n",
       "  </tbody>\n",
       "</table>\n",
       "<p>104 rows × 3 columns</p>\n",
       "</div>"
      ],
      "text/plain": [
       "         value  Remove_outliers  removed_outliers\n",
       "0    -0.795808        -0.795808         -0.795808\n",
       "1     0.244377         0.244377          0.244377\n",
       "2    -0.555944        -0.555944         -0.555944\n",
       "3     0.553923         0.553923          0.553923\n",
       "4    -1.139621        -1.139621         -1.139621\n",
       "..         ...              ...               ...\n",
       "99    0.318054         0.318054          0.318054\n",
       "100  10.000000         2.373774          2.373774\n",
       "101  11.000000         2.373774          2.373774\n",
       "102  -8.000000         2.373774         -1.494439\n",
       "103  -9.000000         2.373774         -1.494439\n",
       "\n",
       "[104 rows x 3 columns]"
      ]
     },
     "execution_count": 58,
     "metadata": {},
     "output_type": "execute_result"
    }
   ],
   "source": [
    "df"
   ]
  },
  {
   "cell_type": "code",
   "execution_count": 59,
   "id": "a3ddffb5-9a38-4237-b201-89bca3e59476",
   "metadata": {},
   "outputs": [],
   "source": [
    "# So in percentile method we remove the outlies we actually dont remove outliers but what actually we do is just that convert the outliers into maximum possible values"
   ]
  },
  {
   "cell_type": "code",
   "execution_count": 60,
   "id": "b53ef439-665a-4cb6-a05e-6c11ecfc00fa",
   "metadata": {},
   "outputs": [
    {
     "data": {
      "text/plain": [
       "0     -0.795808\n",
       "1      0.244377\n",
       "2     -0.555944\n",
       "3      0.553923\n",
       "4     -1.139621\n",
       "         ...   \n",
       "99     0.318054\n",
       "100    2.373774\n",
       "101    2.373774\n",
       "102   -1.494439\n",
       "103   -1.494439\n",
       "Name: removed_outliers, Length: 104, dtype: float64"
      ]
     },
     "execution_count": 60,
     "metadata": {},
     "output_type": "execute_result"
    }
   ],
   "source": [
    "df['removed_outliers']"
   ]
  },
  {
   "cell_type": "code",
   "execution_count": 61,
   "id": "4805c43b-7e7c-42e3-8d50-acb25f06c9b2",
   "metadata": {},
   "outputs": [
    {
     "data": {
      "text/plain": [
       "<Axes: >"
      ]
     },
     "execution_count": 61,
     "metadata": {},
     "output_type": "execute_result"
    },
    {
     "data": {
      "image/png": "[encoded data removed]",
      "text/plain": [
       "<Figure size 640x480 with 1 Axes>"
      ]
     },
     "metadata": {},
     "output_type": "display_data"
    }
   ],
   "source": [
    "sns.boxplot(df['removed_outliers'])"
   ]
  },
  {
   "cell_type": "code",
   "execution_count": null,
   "id": "b06cb48a-1010-4e10-bc60-b6cd24ce4059",
   "metadata": {},
   "outputs": [],
   "source": []
  }
 ],
 "metadata": {
  "kernelspec": {
   "display_name": "Python 3 (ipykernel)",
   "language": "python",
   "name": "python3"
  },
  "language_info": {
   "codemirror_mode": {
    "name": "ipython",
    "version": 3
   },
   "file_extension": ".py",
   "mimetype": "text/x-python",
   "name": "python",
   "nbconvert_exporter": "python",
   "pygments_lexer": "ipython3",
   "version": "3.11.7"
  }
 },
 "nbformat": 4,
 "nbformat_minor": 5
}
